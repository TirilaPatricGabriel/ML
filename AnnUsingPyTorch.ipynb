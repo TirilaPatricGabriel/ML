{
  "nbformat": 4,
  "nbformat_minor": 0,
  "metadata": {
    "colab": {
      "provenance": [],
      "authorship_tag": "ABX9TyNkiijbtBukyc7MMHJBPwLf",
      "include_colab_link": true
    },
    "kernelspec": {
      "name": "python3",
      "display_name": "Python 3"
    },
    "language_info": {
      "name": "python"
    }
  },
  "cells": [
    {
      "cell_type": "markdown",
      "metadata": {
        "id": "view-in-github",
        "colab_type": "text"
      },
      "source": [
        "<a href=\"https://colab.research.google.com/github/TirilaPatricGabriel/ML/blob/main/AnnUsingPyTorch.ipynb\" target=\"_parent\"><img src=\"https://colab.research.google.com/assets/colab-badge.svg\" alt=\"Open In Colab\"/></a>"
      ]
    },
    {
      "cell_type": "code",
      "execution_count": null,
      "metadata": {
        "id": "XK3MWqfDUh7u"
      },
      "outputs": [],
      "source": [
        "import numpy as np\n",
        "import matplotlib.pyplot as plt\n",
        "import pandas as pd\n",
        "import torch\n",
        "import torch.nn as nn\n",
        "import torch.optim as optim\n",
        "import torch.utils.data\n",
        "import torch.nn.parallel\n",
        "\n",
        "dataset = pd.read_csv(\"Churn_Modelling.csv\")\n",
        "X = np.array(dataset.iloc[:, 3:-1])\n",
        "y = np.array(dataset.iloc[:, -1])\n",
        "\n",
        "from sklearn.preprocessing import LabelEncoder\n",
        "le = LabelEncoder()\n",
        "X[:, 2] = le.fit_transform(X[:, 2])\n",
        "\n",
        "from sklearn.preprocessing import OneHotEncoder\n",
        "from sklearn.compose import ColumnTransformer\n",
        "ct = ColumnTransformer(transformers=[(\"encoder\", OneHotEncoder(), [1])], remainder=\"passthrough\")\n",
        "X = ct.fit_transform(X)\n",
        "\n",
        "from sklearn.model_selection import train_test_split\n",
        "X_train, X_test, y_train, y_test = train_test_split(X, y, test_size=0.2)\n",
        "\n",
        "from sklearn.preprocessing import StandardScaler\n",
        "ss = StandardScaler()\n",
        "X_train = ss.fit_transform(X_train)\n",
        "X_test = ss.transform(X_test)\n",
        "\n",
        "input_dim = X_train.shape[1]\n",
        "X_train = torch.tensor(X_train, dtype=torch.float32)\n",
        "X_test = torch.tensor(X_test, dtype=torch.float32)\n",
        "\n",
        "y_train = torch.tensor(y_train, dtype=torch.long)\n",
        "y_test = torch.tensor(y_test, dtype=torch.long)\n",
        "\n",
        "class ANN(nn.Module):\n",
        "  def __init__(self, input_dim):\n",
        "    super(ANN, self).__init__()\n",
        "    self.dense1 = nn.Linear(input_dim, 256)\n",
        "    self.dense2 = nn.Linear(256, 128)\n",
        "    self.dense3 = nn.Linear(128, 2)\n",
        "    self.activation = nn.ReLU()\n",
        "\n",
        "  def forward(self, x):\n",
        "    x = self.activation(self.dense1(x))\n",
        "    x = self.activation(self.dense2(x))\n",
        "    x = self.dense3(x)\n",
        "    return x\n",
        "ann = ANN(input_dim)\n",
        "criterion = nn.CrossEntropyLoss()\n",
        "optimizer = optim.Adam(ann.parameters(), lr=0.01)\n",
        "\n",
        "train_dataset = torch.utils.data.TensorDataset(X_train, y_train)\n",
        "test_dataset = torch.utils.data.TensorDataset(X_test, y_test)\n",
        "train_loader = torch.utils.data.DataLoader(train_dataset, batch_size=32, shuffle=True)\n",
        "test_loader = torch.utils.data.DataLoader(test_dataset, batch_size=32, shuffle=False)\n",
        "\n",
        "n_ep = 101\n",
        "for epoch in range(n_ep):\n",
        "  ann.train()\n",
        "  epoch_loss = 0\n",
        "\n",
        "  for batch_X, batch_y in train_loader:\n",
        "    optimizer.zero_grad()\n",
        "    output = ann(batch_X)\n",
        "\n",
        "    loss = criterion(output, batch_y)\n",
        "    epoch_loss += loss.item()\n",
        "\n",
        "    loss.backward()\n",
        "    optimizer.step()\n",
        "\n",
        "  print(f\"epoch: {epoch} with loss: {epoch_loss}\")\n",
        "\n",
        "ann.eval()\n",
        "correct = 0\n",
        "total = 0\n",
        "\n",
        "with torch.no_grad():\n",
        "  for batch_X, batch_y in test_loader:\n",
        "    output = ann(batch_X)\n",
        "    predictions = torch.argmax(output, dim=1)\n",
        "    correct = (predictions == batch_y).sum().item()\n",
        "    total = batch_y.size(0)\n",
        "\n",
        "accuracy = correct / total\n",
        "print(accuracy)"
      ]
    }
  ]
}