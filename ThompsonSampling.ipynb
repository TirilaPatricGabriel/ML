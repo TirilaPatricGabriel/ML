{
  "nbformat": 4,
  "nbformat_minor": 0,
  "metadata": {
    "colab": {
      "provenance": [],
      "authorship_tag": "ABX9TyOmfA0IRWGIxs9kc22MbMZg",
      "include_colab_link": true
    },
    "kernelspec": {
      "name": "python3",
      "display_name": "Python 3"
    },
    "language_info": {
      "name": "python"
    }
  },
  "cells": [
    {
      "cell_type": "markdown",
      "metadata": {
        "id": "view-in-github",
        "colab_type": "text"
      },
      "source": [
        "<a href=\"https://colab.research.google.com/github/TirilaPatricGabriel/ML/blob/main/ThompsonSampling.ipynb\" target=\"_parent\"><img src=\"https://colab.research.google.com/assets/colab-badge.svg\" alt=\"Open In Colab\"/></a>"
      ]
    },
    {
      "cell_type": "code",
      "execution_count": 1,
      "metadata": {
        "id": "ccJ48-vbwBcA"
      },
      "outputs": [],
      "source": [
        "import numpy as np\n",
        "import matplotlib.pyplot as plt\n",
        "import pandas as pd"
      ]
    },
    {
      "cell_type": "code",
      "source": [
        "dataset = pd.read_csv('Ads_CTR_Optimisation.csv')"
      ],
      "metadata": {
        "id": "kv2xNyoxwFAa"
      },
      "execution_count": 2,
      "outputs": []
    },
    {
      "cell_type": "code",
      "source": [
        "import random\n",
        "\n",
        "N = 10000\n",
        "d = 10\n",
        "n_1 = [0] * d\n",
        "n_0 = [0] * d\n",
        "ads_selected = []\n",
        "total_reward = 0\n",
        "\n",
        "for rnd in range(0, N):\n",
        "  max_beta = 0\n",
        "  selected_ad = 0\n",
        "  for ad in range(0, d):\n",
        "    random_beta = random.betavariate(n_0[ad]+1, n_1[ad]+1);\n",
        "\n",
        "    if random_beta > max_beta:\n",
        "        max_beta = random_beta\n",
        "        selected_ad = ad\n",
        "\n",
        "  ads_selected.append(selected_ad)\n",
        "  if dataset.values[rnd, selected_ad] == 1:\n",
        "    n_1[selected_ad] += 1\n",
        "  else:\n",
        "    n_0[selected_ad] += 1\n",
        "  total_reward = total_reward + dataset.values[rnd, selected_ad]\n",
        "\n",
        "plt.hist(ads_selected)\n",
        "print(total_reward)"
      ],
      "metadata": {
        "colab": {
          "base_uri": "https://localhost:8080/",
          "height": 447
        },
        "id": "PwrhgKnVwQbt",
        "outputId": "ce13d32c-7c1c-4b16-ecb2-52f5f929afc7"
      },
      "execution_count": 7,
      "outputs": [
        {
          "output_type": "stream",
          "name": "stdout",
          "text": [
            "152\n"
          ]
        },
        {
          "output_type": "display_data",
          "data": {
            "text/plain": [
              "<Figure size 640x480 with 1 Axes>"
            ],
            "image/png": "[encoded data removed]"
          },
          "metadata": {}
        }
      ]
    }
  ]
}