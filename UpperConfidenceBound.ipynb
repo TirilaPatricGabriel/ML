{
  "nbformat": 4,
  "nbformat_minor": 0,
  "metadata": {
    "colab": {
      "provenance": [],
      "authorship_tag": "ABX9TyMMou5HcbINWZnF86uma1JQ",
      "include_colab_link": true
    },
    "kernelspec": {
      "name": "python3",
      "display_name": "Python 3"
    },
    "language_info": {
      "name": "python"
    }
  },
  "cells": [
    {
      "cell_type": "markdown",
      "metadata": {
        "id": "view-in-github",
        "colab_type": "text"
      },
      "source": [
        "<a href=\"https://colab.research.google.com/github/TirilaPatricGabriel/ML/blob/main/UpperConfidenceBound.ipynb\" target=\"_parent\"><img src=\"https://colab.research.google.com/assets/colab-badge.svg\" alt=\"Open In Colab\"/></a>"
      ]
    },
    {
      "cell_type": "code",
      "execution_count": 15,
      "metadata": {
        "id": "uVMmtrEGZHyM"
      },
      "outputs": [],
      "source": [
        "import numpy as np\n",
        "import matplotlib.pyplot as plt\n",
        "import pandas as pd"
      ]
    },
    {
      "cell_type": "code",
      "source": [
        "dataset = pd.read_csv('Ads_CTR_Optimisation.csv')"
      ],
      "metadata": {
        "id": "2aevrANFaCYm"
      },
      "execution_count": 16,
      "outputs": []
    },
    {
      "cell_type": "code",
      "source": [
        "import math\n",
        "N = 10000\n",
        "d = 10\n",
        "ads_selected = []\n",
        "number_picked = [0] * d\n",
        "number_rewards = [0] * d\n",
        "total_reward = 0\n",
        "\n",
        "for round_id in range(0, N):\n",
        "\n",
        "  max_upper_bound = 0\n",
        "  selected_ad = 0\n",
        "  average_reward = 0\n",
        "\n",
        "  for ad_id in range(0, d):\n",
        "    if number_picked[ad_id] == 0:\n",
        "      upper_bound = float('inf')\n",
        "    else:\n",
        "      average_reward = number_rewards[ad_id] / number_picked[ad_id]\n",
        "      delta_i = math.sqrt(3/2 * math.log(round_id+1) / number_picked[ad_id])\n",
        "      upper_bound = average_reward + delta_i\n",
        "    if upper_bound > max_upper_bound:\n",
        "      max_upper_bound = upper_bound\n",
        "      selected_ad = ad_id\n",
        "  ads_selected.append(selected_ad)\n",
        "  number_picked[selected_ad] = number_picked[selected_ad] + 1\n",
        "  reward = dataset.values[round_id, selected_ad]\n",
        "  number_rewards[selected_ad] = number_rewards[selected_ad] + reward\n",
        "  total_reward = total_reward + reward"
      ],
      "metadata": {
        "id": "bFgURttQaJYk"
      },
      "execution_count": 23,
      "outputs": []
    },
    {
      "cell_type": "code",
      "source": [
        "plt.hist(ads_selected)"
      ],
      "metadata": {
        "colab": {
          "base_uri": "https://localhost:8080/",
          "height": 430
        },
        "id": "kfzPJp3Bekhc",
        "outputId": "399d29f1-091f-4c35-ee02-2b87e21da2bc"
      },
      "execution_count": 22,
      "outputs": [
        {
          "output_type": "display_data",
          "data": {
            "text/plain": [
              "<Figure size 640x480 with 1 Axes>"
            ],
            "image/png": "[encoded data removed]"
          },
          "metadata": {}
        }
      ]
    },
    {
      "cell_type": "code",
      "source": [
        "import pandas as pd\n",
        "import numpy as np\n",
        "import matplotlib.pyplot as plt\n",
        "\n",
        "dataset = pd.read_csv('Ads_CTR_Optimisation.csv')\n",
        "\n",
        "import math\n",
        "n_rounds = 500\n",
        "n_ads = 10\n",
        "n_selected = [0] * n_ads\n",
        "sum_rewards = [0] * n_ads\n",
        "ads_selected = []\n",
        "total_reward = 0\n",
        "\n",
        "for rnd in range(0, n_rounds):\n",
        "\n",
        "  selected_ad = 0\n",
        "  max_upper_bound = 0\n",
        "\n",
        "  for ad in range(0, n_ads):\n",
        "    if n_selected[ad] == 0:\n",
        "      upper_bound = float('inf')\n",
        "    else:\n",
        "      avg_reward = sum_rewards[ad] / n_selected[ad]\n",
        "      delta_i = math.sqrt(3/2 * math.log(rnd+1) / n_selected[ad])\n",
        "      upper_bound = avg_reward + delta_i\n",
        "    if upper_bound > max_upper_bound:\n",
        "      max_upper_bound = upper_bound\n",
        "      selected_ad = ad\n",
        "\n",
        "  reward_of_ad = dataset.values[rnd, selected_ad]\n",
        "  n_selected[selected_ad] = n_selected[selected_ad] + 1\n",
        "  sum_rewards[selected_ad] += reward_of_ad\n",
        "  ads_selected.append(selected_ad)\n",
        "  total_reward += reward_of_ad\n",
        "\n",
        "plt.hist(ads_selected)"
      ],
      "metadata": {
        "colab": {
          "base_uri": "https://localhost:8080/",
          "height": 482
        },
        "id": "cBt-9jMKf-Fp",
        "outputId": "30ad001d-6aeb-4dac-fb93-01d64afac2a9"
      },
      "execution_count": 26,
      "outputs": [
        {
          "output_type": "execute_result",
          "data": {
            "text/plain": [
              "(array([60., 51., 35., 35., 79., 31., 51., 81., 42., 35.]),\n",
              " array([0. , 0.9, 1.8, 2.7, 3.6, 4.5, 5.4, 6.3, 7.2, 8.1, 9. ]),\n",
              " <BarContainer object of 10 artists>)"
            ]
          },
          "metadata": {},
          "execution_count": 26
        },
        {
          "output_type": "display_data",
          "data": {
            "text/plain": [
              "<Figure size 640x480 with 1 Axes>"
            ],
            "image/png": "[encoded data removed]"
          },
          "metadata": {}
        }
      ]
    }
  ]
}